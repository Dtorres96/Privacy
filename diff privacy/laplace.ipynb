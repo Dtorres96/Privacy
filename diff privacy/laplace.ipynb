{
 "cells": [
  {
   "cell_type": "markdown",
   "metadata": {},
   "source": [
    "# Imports"
   ]
  },
  {
   "cell_type": "code",
   "execution_count": 14,
   "metadata": {},
   "outputs": [],
   "source": [
    "import pandas as pd\n",
    "import numpy as np\n",
    "from scipy.stats import laplace\n",
    "import random\n",
    "import matplotlib.pyplot as plt\n",
    "from scipy.integrate import quad\n",
    "\n",
    "df_adult = pd.read_csv(\"adult.csv\")"
   ]
  },
  {
   "cell_type": "markdown",
   "metadata": {},
   "source": [
    "# Ploting Laplace Distribution"
   ]
  },
  {
   "cell_type": "code",
   "execution_count": 15,
   "metadata": {},
   "outputs": [],
   "source": [
    "def plota(scale, a, b):\n",
    "    dist = laplace(0, scale)\n",
    "    x = np.linspace(-100, 100,1000)\n",
    "    plt.plot(x, dist.pdf(x), c='black')\n",
    "    plt.show()"
   ]
  },
  {
   "cell_type": "code",
   "execution_count": 16,
   "metadata": {},
   "outputs": [],
   "source": [
    "def consulta1(df,eplison):\n",
    "    if(eplison == 0): return np.mean(df['age'].values)\n",
    "    sensibilidade = np.mean(df['age'].values)-(np.sum(df['age'].values)-np.max(df['age'].values))/(df.shape[0]-1)\n",
    "    x = laplace.rvs(loc = 0, scale = sensibilidade/eplison)\n",
    "    return [np.mean(df['age'].values) + x,quad(laplace.pdf,x-0.0000000001, x+0.0000000001, args = (0,sensibilidade/eplison))[0],sensibilidade]"
   ]
  },
  {
   "cell_type": "code",
   "execution_count": 17,
   "metadata": {},
   "outputs": [],
   "source": [
    "def consulta2(df,eplison):\n",
    "    if(eplison == 0): return np.sum(df['capitalgain'].values)\n",
    "    sensibilidade = np.max(df['capitalgain'].values)\n",
    "    x = laplace.rvs(loc = 0, scale = sensibilidade/eplison)\n",
    "    return [np.sum(df['capitalgain'].values) + x,quad(laplace.pdf,x-0.0000000001, x+0.0000000001, args = (0,sensibilidade/eplison))[0],sensibilidade]"
   ]
  },
  {
   "cell_type": "code",
   "execution_count": 18,
   "metadata": {},
   "outputs": [],
   "source": [
    "def consulta3(df,eplison):\n",
    "    if(eplison == 0): return np.mean(df['hoursperweek'].values)\n",
    "    sensibilidade = np.mean(df['hoursperweek'].values)-(np.sum(df['hoursperweek'].values)-np.max(df['hoursperweek'].values))/(df.shape[0]-1)\n",
    "    x = laplace.rvs(loc = 0, scale = sensibilidade/eplison)\n",
    "    return [np.mean(df['hoursperweek'].values) + x,quad(laplace.pdf,x-0.0000000001, x+0.0000000001, args = (0,sensibilidade/eplison))[0],sensibilidade]"
   ]
  },
  {
   "cell_type": "code",
   "execution_count": 19,
   "metadata": {},
   "outputs": [],
   "source": [
    "def consulta4(df,eplison):\n",
    "    df_copy = df.copy()\n",
    "    df_copy = df_copy.replace('>50K', 1)\n",
    "    df_copy = df_copy.replace('<=50K', 0)\n",
    "    df_copy['class'] = df_copy['class'].astype(int)\n",
    "    if(eplison == 0): return np.sum(df_copy['class'].values)\n",
    "    sensibilidade = np.max(df_copy['class'].values) \n",
    "    x = laplace.rvs(loc = 0, scale = sensibilidade/eplison)\n",
    "    return [np.sum(df_copy['class'].values) + x,quad(laplace.pdf,x-0.0000000001, x+0.0000000001, args = (0,sensibilidade/eplison))[0],sensibilidade]"
   ]
  },
  {
   "cell_type": "code",
   "execution_count": 20,
   "metadata": {},
   "outputs": [],
   "source": [
    "def consulta1_teste(df, res,eplison):\n",
    "    sensibilidade = np.mean(df['age'].values)-(np.sum(df['age'].values)-np.max(df['age'].values))/(df.shape[0]-1)\n",
    "    x = res-np.mean(df_adult['age'].values)\n",
    "    return quad(laplace.pdf,x-0.0000000001, x+0.0000000001, args = (0,sensibilidade/eplison))[0]\n",
    "    "
   ]
  },
  {
   "cell_type": "code",
   "execution_count": 21,
   "metadata": {},
   "outputs": [],
   "source": [
    "def consulta2_teste(df, res,eplison):\n",
    "    sensibilidade = np.max(df['capitalgain'].values)\n",
    "    x = res-np.sum(df_adult['capitalgain'].values)\n",
    "    return quad(laplace.pdf,x-0.0000000001, x+0.0000000001, args = (0,sensibilidade/eplison))[0]\n",
    "    "
   ]
  },
  {
   "cell_type": "code",
   "execution_count": 22,
   "metadata": {},
   "outputs": [],
   "source": [
    "def consulta3_teste(df, res,eplison):\n",
    "    sensibilidade = np.mean(df['hoursperweek'].values)-(np.sum(df['hoursperweek'].values)-np.max(df['hoursperweek'].values))/(df.shape[0]-1)\n",
    "    x = res-np.mean(df_adult['hoursperweek'].values)\n",
    "    return quad(laplace.pdf,x-0.0000000001, x+0.0000000001, args = (0,sensibilidade/eplison))[0]"
   ]
  },
  {
   "cell_type": "code",
   "execution_count": 23,
   "metadata": {},
   "outputs": [],
   "source": [
    "def consulta4_teste(df, res,eplison):\n",
    "    df_copy = df_adult.copy()\n",
    "    df_copy = df_copy.replace('>50K', 1)\n",
    "    df_copy = df_copy.replace('<=50K', 0)\n",
    "    df_copy['class'] = df_copy['class'].astype(int)\n",
    "    df_copy2 = df.copy()\n",
    "    df_copy2 = df_copy2.replace('>50K', 1)\n",
    "    df_copy2 = df_copy2.replace('<=50K', 0)\n",
    "    df_copy2['class'] = df_copy2['class'].astype(int)\n",
    "    sensibilidade = np.max(df_copy2['class'].values) \n",
    "    x = res-np.sum(df_copy['class'].values)\n",
    "    return quad(laplace.pdf,x-0.0000000001, x+0.0000000001, args = (0,sensibilidade/eplison))[0]"
   ]
  },
  {
   "cell_type": "code",
   "execution_count": 29,
   "metadata": {},
   "outputs": [],
   "source": [
    "def testa_diffpriv(eplison):\n",
    "    r = random.randrange(0,df_adult.shape[0]-1)\n",
    "    df_vizinho = df_adult.copy()\n",
    "    df_vizinho = df_vizinho.drop(df_vizinho.index[r])\n",
    "    c1 = consulta1(df_adult,eplison)\n",
    "    c2 = consulta2(df_adult,eplison)\n",
    "    c3 = consulta3(df_adult,eplison)\n",
    "    c4 = consulta4(df_adult,eplison)\n",
    "    if(\n",
    "        np.log(c1[1]/consulta1_teste(df_vizinho, c1[0], eplison)) <= eplison and\n",
    "        np.log(c2[1]/consulta2_teste(df_vizinho, c2[0], eplison)) <= eplison and\n",
    "        np.log(c3[1]/consulta3_teste(df_vizinho, c3[0], eplison)) <= eplison and\n",
    "        np.log(c4[1]/consulta4_teste(df_vizinho, c4[0], eplison)) <= eplison\n",
    "    ):\n",
    "        return True\n",
    "    \n",
    "    print(r)\n",
    "    print(c1[0])\n",
    "    print(c1[1])\n",
    "    print(consulta1_teste(df_vizinho,c1[0],eplison))\n",
    "    return False\n",
    "        "
   ]
  },
  {
   "cell_type": "code",
   "execution_count": null,
   "metadata": {},
   "outputs": [],
   "source": [
    "#k=1\n",
    "#while(k>0):\n",
    "#    if(not testa_diffpriv(0.1)):break\n",
    "#    print(\"ok\")"
   ]
  },
  {
   "cell_type": "code",
   "execution_count": 26,
   "metadata": {},
   "outputs": [],
   "source": [
    "#laplace.pdf(-0.01,0,0.0045)"
   ]
  },
  {
   "cell_type": "markdown",
   "metadata": {},
   "source": [
    "# Parameters"
   ]
  },
  {
   "cell_type": "code",
   "execution_count": 13,
   "metadata": {},
   "outputs": [],
   "source": [
    "eplisons = [0.025,0.25,2.5]"
   ]
  },
  {
   "cell_type": "markdown",
   "metadata": {},
   "source": [
    "# Consulta 1 "
   ]
  },
  {
   "cell_type": "code",
   "execution_count": 14,
   "metadata": {},
   "outputs": [],
   "source": [
    "c1_results = []\n",
    "c1_sens = []\n",
    "\n",
    "for eplison in eplisons:\n",
    "    c1 = consulta1(df_adult,eplison)\n",
    "    c1_results.append(c1[0])\n",
    "    c1_sens.append(c1[2])"
   ]
  },
  {
   "cell_type": "markdown",
   "metadata": {},
   "source": [
    "# Consulta 2"
   ]
  },
  {
   "cell_type": "code",
   "execution_count": 15,
   "metadata": {},
   "outputs": [],
   "source": [
    "c2_results = []\n",
    "c2_sens = []\n",
    "\n",
    "for eplison in eplisons:\n",
    "    c2 = consulta2(df_adult,eplison)\n",
    "    c2_results.append(c2[0])\n",
    "    c2_sens.append(c2[2])"
   ]
  },
  {
   "cell_type": "markdown",
   "metadata": {},
   "source": [
    "# Consulta 3"
   ]
  },
  {
   "cell_type": "code",
   "execution_count": 16,
   "metadata": {},
   "outputs": [],
   "source": [
    "c3_results = []\n",
    "c3_sens = []\n",
    "\n",
    "for eplison in eplisons:\n",
    "    c3 = consulta3(df_adult,eplison)\n",
    "    c3_results.append(c3[0])\n",
    "    c3_sens.append(c3[2])"
   ]
  },
  {
   "cell_type": "markdown",
   "metadata": {},
   "source": [
    "# Consulta 4"
   ]
  },
  {
   "cell_type": "code",
   "execution_count": 17,
   "metadata": {},
   "outputs": [],
   "source": [
    "c4_results = []\n",
    "c4_sens = []\n",
    "\n",
    "for eplison in eplisons:\n",
    "    c4 = consulta4(df_adult,eplison)\n",
    "    c4_results.append(c4[0])\n",
    "    c4_sens.append(c4[2])"
   ]
  },
  {
   "cell_type": "code",
   "execution_count": 18,
   "metadata": {},
   "outputs": [],
   "source": [
    "data = []\n",
    "budgets = [0.1,1,10]\n",
    "i = 0\n",
    "for budget in budgets:\n",
    "    data.append([budget,c1_results[i],c2_results[i],c3_results[i],c4_results[i],c1_sens[i],c2_sens[i],c3_sens[i],c4_sens[i]])\n",
    "    i += 1"
   ]
  },
  {
   "cell_type": "code",
   "execution_count": 19,
   "metadata": {},
   "outputs": [],
   "source": [
    "results = pd.DataFrame(data, columns = [ 'budget', 'result q1', 'result q2', 'result q3', 'result q4',\n",
    "                                        'sens q1', 'sens q2', 'sens q3', 'sens q4']) "
   ]
  },
  {
   "cell_type": "code",
   "execution_count": 20,
   "metadata": {},
   "outputs": [
    {
     "data": {
      "text/html": [
       "<div>\n",
       "<style scoped>\n",
       "    .dataframe tbody tr th:only-of-type {\n",
       "        vertical-align: middle;\n",
       "    }\n",
       "\n",
       "    .dataframe tbody tr th {\n",
       "        vertical-align: top;\n",
       "    }\n",
       "\n",
       "    .dataframe thead th {\n",
       "        text-align: right;\n",
       "    }\n",
       "</style>\n",
       "<table border=\"1\" class=\"dataframe\">\n",
       "  <thead>\n",
       "    <tr style=\"text-align: right;\">\n",
       "      <th></th>\n",
       "      <th>budget</th>\n",
       "      <th>result q1</th>\n",
       "      <th>result q2</th>\n",
       "      <th>result q3</th>\n",
       "      <th>result q4</th>\n",
       "      <th>sens q1</th>\n",
       "      <th>sens q2</th>\n",
       "      <th>sens q3</th>\n",
       "      <th>sens q4</th>\n",
       "    </tr>\n",
       "  </thead>\n",
       "  <tbody>\n",
       "    <tr>\n",
       "      <th>0</th>\n",
       "      <td>0.1</td>\n",
       "      <td>1.771940</td>\n",
       "      <td>9762.793918</td>\n",
       "      <td>1.950605</td>\n",
       "      <td>11709.251837</td>\n",
       "      <td>0.000046</td>\n",
       "      <td>4</td>\n",
       "      <td>0.000042</td>\n",
       "      <td>1</td>\n",
       "    </tr>\n",
       "    <tr>\n",
       "      <th>1</th>\n",
       "      <td>1.0</td>\n",
       "      <td>1.771022</td>\n",
       "      <td>9793.222573</td>\n",
       "      <td>1.950959</td>\n",
       "      <td>11684.782955</td>\n",
       "      <td>0.000046</td>\n",
       "      <td>4</td>\n",
       "      <td>0.000042</td>\n",
       "      <td>1</td>\n",
       "    </tr>\n",
       "    <tr>\n",
       "      <th>2</th>\n",
       "      <td>10.0</td>\n",
       "      <td>1.771059</td>\n",
       "      <td>9784.778068</td>\n",
       "      <td>1.950695</td>\n",
       "      <td>11687.814657</td>\n",
       "      <td>0.000046</td>\n",
       "      <td>4</td>\n",
       "      <td>0.000042</td>\n",
       "      <td>1</td>\n",
       "    </tr>\n",
       "  </tbody>\n",
       "</table>\n",
       "</div>"
      ],
      "text/plain": [
       "   budget  result q1    result q2  result q3     result q4   sens q1  sens q2  \\\n",
       "0     0.1   1.771940  9762.793918   1.950605  11709.251837  0.000046        4   \n",
       "1     1.0   1.771022  9793.222573   1.950959  11684.782955  0.000046        4   \n",
       "2    10.0   1.771059  9784.778068   1.950695  11687.814657  0.000046        4   \n",
       "\n",
       "    sens q3  sens q4  \n",
       "0  0.000042        1  \n",
       "1  0.000042        1  \n",
       "2  0.000042        1  "
      ]
     },
     "execution_count": 20,
     "metadata": {},
     "output_type": "execute_result"
    }
   ],
   "source": [
    "results"
   ]
  },
  {
   "cell_type": "code",
   "execution_count": 21,
   "metadata": {},
   "outputs": [],
   "source": [
    "results.to_csv('result.csv',index=False,sep=',')"
   ]
  }
 ],
 "metadata": {
  "kernelspec": {
   "display_name": "Python 3",
   "language": "python",
   "name": "python3"
  },
  "language_info": {
   "codemirror_mode": {
    "name": "ipython",
    "version": 3
   },
   "file_extension": ".py",
   "mimetype": "text/x-python",
   "name": "python",
   "nbconvert_exporter": "python",
   "pygments_lexer": "ipython3",
   "version": "3.7.4"
  }
 },
 "nbformat": 4,
 "nbformat_minor": 2
}
