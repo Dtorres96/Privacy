{
 "cells": [
  {
   "cell_type": "code",
   "execution_count": null,
   "metadata": {},
   "outputs": [],
   "source": [
    "import pandas as pd\n",
    "import numpy as np\n",
    "import random\n",
    "from collections import defaultdict\n",
    "%matplotlib inline\n",
    "\n",
    "df = pd.read_csv(\"salario.csv\")\n",
    "count = defaultdict(int)"
   ]
  },
  {
   "cell_type": "code",
   "execution_count": null,
   "metadata": {},
   "outputs": [],
   "source": [
    "def testing():\n",
    "    return df.groupby([\"pais\",\"estado\",\"cidade\",\"genero\",\"data\"], axis=0, level=None, as_index=False).count()\n",
    "\n",
    "def classEquivalence(a,b,c,d,e):\n",
    "    return df[(df[\"pais\"] == a) & (df[\"estado\"] == b) & (df[\"cidade\"] == c) & (df[\"genero\"] == d) & (df[\"data\"] == e)]\n",
    "    "
   ]
  },
  {
   "cell_type": "code",
   "execution_count": null,
   "metadata": {},
   "outputs": [],
   "source": [
    "def toGeneralize(genero): \n",
    "    if genero == True: return random.choice(df.columns.drop('salario').drop('id'))\n",
    "    return random.choice(df.columns.drop('salario').drop('id').drop('genero'))\n",
    "\n",
    "def nextGeneralization(i,j, value):\n",
    "    if(j == \"pais\"): \n",
    "        if(df.at[i,\"estado\"] != \"*\"): return nextGeneralization(i, \"estado\", value)\n",
    "        df.at[i, j] = \"*\"\n",
    "        if(count[\"lugar\",i] == 2): count[\"lugar\",i] = 3\n",
    "    elif(j == \"estado\"):\n",
    "        if(df.at[i,\"cidade\"] != \"*\"): return nextGeneralization(i, \"cidade\", value)\n",
    "        df.at[i, j] = \"*\"\n",
    "        if(count[\"lugar\",i] == 1): count[\"lugar\",i] = 2\n",
    "    elif(j == \"cidade\"):\n",
    "        df.at[i, j] = \"*\"\n",
    "        if(count[\"lugar\",i] == 0): count[\"lugar\",i] = 1\n",
    "    elif(j == \"genero\"):\n",
    "        df.at[i, j] = \"*\"\n",
    "        if(count[\"genero\",i] == 0): count[\"genero\",i] = 1\n",
    "    elif(j == \"data\"):\n",
    "        if(str(value)[0:5] == \"**/**\"): df.at[i, j] = \"**/**/**\"\n",
    "        elif(str(value)[0:2] == \"**\"): df.at[i, j] = \"**/**\"  + str((value)[5:8])\n",
    "        else:\n",
    "            df.at[i, j] = \"**\" + str((value)[2:8])\n",
    "        \n",
    "        if(count[\"data\",i] < 3): count[\"data\",i] = count[\"data\",i] + 1\n",
    "    else:\n",
    "        df.at[i, j] = \"erro\"\n",
    "        "
   ]
  },
  {
   "cell_type": "code",
   "execution_count": null,
   "metadata": {},
   "outputs": [],
   "source": [
    "def max_hye(col):\n",
    "    if (col == 'genero'): return 1\n",
    "    return 3\n",
    "\n",
    "Na = 3 #n_atributos semi identificadores\n",
    "def precision():\n",
    "    summ =  0\n",
    "    for index, row in df.iterrows():\n",
    "        for col in df.columns.drop('id').drop('salario'):\n",
    "                summ += count[col, index]/max_hye(col)\n",
    "\n",
    "    return 1 - summ/(df.shape[0] * Na)"
   ]
  },
  {
   "cell_type": "code",
   "execution_count": null,
   "metadata": {},
   "outputs": [],
   "source": [
    "def nextt2(qtd):\n",
    "    for q in range(qtd):\n",
    "        i = random.choice(df.index)\n",
    "        j = toGeneralize(True)\n",
    "        print(str(i) + \" \" + str(j))\n",
    "        nextGeneralization(i, j, df.loc[i][j])\n",
    "        print(\"----------------\\n\\n\")\n",
    "\n",
    "    \n",
    "def nextt(k, genero):\n",
    "        \n",
    "        test = testing()\n",
    "        test = test[test['salario'] < k]\n",
    "        \n",
    "        for index,aux in test.iterrows():\n",
    "            a = aux['pais']\n",
    "            b = aux['estado']\n",
    "            c = aux['cidade']\n",
    "            d = aux['genero']\n",
    "            e = aux['data']\n",
    "        \n",
    "            \n",
    "            j = toGeneralize(genero)\n",
    "\n",
    "            for i in classEquivalence(a,b,c,d,e).index:\n",
    "                print(str(i) + \" \" + str(j))\n",
    "                nextGeneralization(i, j, aux[j])\n",
    "            print(\"----------------\\n\\n\")\n",
    "\n",
    "def kanonimity(k):\n",
    "    while testing()[testing()['salario'] < k].shape[0] > 0:\n",
    "        qtd_restante = testing()[testing()['salario'] < k].shape[0]\n",
    "        print('@@@@@@@@@@@@@@@@')\n",
    "        print(qtd_restante)\n",
    "        print('@@@@@@@@@@@@@@@@')\n",
    "        test = testing().loc[0]\n",
    "        if(qtd_restante == 1 and test['pais']=='*' and test['estado']=='*' and test['cidade']=='*'\n",
    "        and test['genero']=='*' and test['data']=='**/**/**'):\n",
    "            nextt2(qtd_restante)\n",
    "        else:\n",
    "            if(qtd_restante > 50): \n",
    "                nextt(k, False)\n",
    "            else:\n",
    "                nextt(k, True)\n",
    "\n",
    "        "
   ]
  },
  {
   "cell_type": "code",
   "execution_count": null,
   "metadata": {
    "scrolled": true
   },
   "outputs": [],
   "source": [
    "%%time\n",
    "df = pd.read_csv(\"salario.csv\")\n",
    "count = defaultdict(int)\n",
    "kanonimity(2)\n"
   ]
  },
  {
   "cell_type": "code",
   "execution_count": null,
   "metadata": {},
   "outputs": [],
   "source": [
    "precision() #k =2"
   ]
  },
  {
   "cell_type": "code",
   "execution_count": null,
   "metadata": {},
   "outputs": [],
   "source": [
    "%%time\n",
    "df = pd.read_csv(\"salario.csv\")\n",
    "count = defaultdict(int)\n",
    "kanonimity(4)\n"
   ]
  },
  {
   "cell_type": "code",
   "execution_count": null,
   "metadata": {},
   "outputs": [],
   "source": [
    "precision() #k=4"
   ]
  },
  {
   "cell_type": "code",
   "execution_count": null,
   "metadata": {},
   "outputs": [],
   "source": [
    "%%time\n",
    "df = pd.read_csv(\"salario.csv\")\n",
    "count = defaultdict(int)\n",
    "kanonimity(8)\n"
   ]
  },
  {
   "cell_type": "code",
   "execution_count": null,
   "metadata": {},
   "outputs": [],
   "source": [
    "precision() #k=8"
   ]
  },
  {
   "cell_type": "code",
   "execution_count": null,
   "metadata": {},
   "outputs": [],
   "source": [
    "%%time\n",
    "df = pd.read_csv(\"salario.csv\")\n",
    "count = defaultdict(int)\n",
    "kanonimity(16)\n"
   ]
  },
  {
   "cell_type": "code",
   "execution_count": null,
   "metadata": {},
   "outputs": [],
   "source": [
    "precision() #k=16"
   ]
  },
  {
   "cell_type": "code",
   "execution_count": null,
   "metadata": {},
   "outputs": [],
   "source": [
    "%%time\n",
    "df = pd.read_csv(\"salario.csv\")\n",
    "count = defaultdict(int)\n",
    "kanonimity(64)"
   ]
  },
  {
   "cell_type": "code",
   "execution_count": null,
   "metadata": {},
   "outputs": [],
   "source": [
    "precision() #k=64"
   ]
  }
 ],
 "metadata": {
  "kernelspec": {
   "display_name": "Python 3",
   "language": "python",
   "name": "python3"
  },
  "language_info": {
   "codemirror_mode": {
    "name": "ipython",
    "version": 3
   },
   "file_extension": ".py",
   "mimetype": "text/x-python",
   "name": "python",
   "nbconvert_exporter": "python",
   "pygments_lexer": "ipython3",
   "version": "3.7.3"
  }
 },
 "nbformat": 4,
 "nbformat_minor": 2
}
