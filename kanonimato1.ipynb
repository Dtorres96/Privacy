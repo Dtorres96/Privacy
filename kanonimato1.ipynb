{
 "cells": [
  {
   "cell_type": "markdown",
   "metadata": {},
   "source": [
    "# Imports"
   ]
  },
  {
   "cell_type": "code",
   "execution_count": 1,
   "metadata": {},
   "outputs": [],
   "source": [
    "import pandas as pd\n",
    "import numpy as np\n",
    "import random\n",
    "from collections import defaultdict\n",
    "%matplotlib inline\n",
    "\n",
    "df = pd.read_csv(\"salario.csv\")\n",
    "count = defaultdict(int)"
   ]
  },
  {
   "cell_type": "code",
   "execution_count": 2,
   "metadata": {},
   "outputs": [],
   "source": [
    "def testing():\n",
    "    return df.groupby([\"pais\",\"estado\",\"cidade\",\"genero\",\"data\"], axis=0, level=None, as_index=False).count()\n",
    "\n",
    "def classEquivalence(a,b,c,d,e):\n",
    "    return df[(df[\"pais\"] == a) & (df[\"estado\"] == b) & (df[\"cidade\"] == c) & (df[\"genero\"] == d) & (df[\"data\"] == e)]\n",
    "    "
   ]
  },
  {
   "cell_type": "code",
   "execution_count": 3,
   "metadata": {},
   "outputs": [],
   "source": [
    "def toGeneralize(genero): \n",
    "    if genero == True: return random.choice(df.columns.drop('salario').drop('id'))\n",
    "    return random.choice(df.columns.drop('salario').drop('id').drop('genero'))\n",
    "\n",
    "def nextGeneralization(i,j, value):\n",
    "    if(j == \"pais\"): \n",
    "        if(df.at[i,\"estado\"] != \"*\"): return nextGeneralization(i, \"estado\", value)\n",
    "        df.at[i, j] = \"*\"\n",
    "        if(count[\"lugar\",i] == 2): count[\"lugar\",i] = 3\n",
    "    elif(j == \"estado\"):\n",
    "        if(df.at[i,\"cidade\"] != \"*\"): return nextGeneralization(i, \"cidade\", value)\n",
    "        df.at[i, j] = \"*\"\n",
    "        if(count[\"lugar\",i] == 1): count[\"lugar\",i] = 2\n",
    "    elif(j == \"cidade\"):\n",
    "        df.at[i, j] = \"*\"\n",
    "        if(count[\"lugar\",i] == 0): count[\"lugar\",i] = 1\n",
    "    elif(j == \"genero\"):\n",
    "        df.at[i, j] = \"*\"\n",
    "        if(count[\"genero\",i] == 0): count[\"genero\",i] = 1\n",
    "    elif(j == \"data\"):\n",
    "        if(str(value)[0:5] == \"**/**\"): df.at[i, j] = \"**/**/**\"\n",
    "        elif(str(value)[0:2] == \"**\"): df.at[i, j] = \"**/**\"  + str((value)[5:8])\n",
    "        else:\n",
    "            df.at[i, j] = \"**\" + str((value)[2:8])\n",
    "        \n",
    "        if(count[\"data\",i] < 3): count[\"data\",i] = count[\"data\",i] + 1\n",
    "    else:\n",
    "        df.at[i, j] = \"erro\"\n",
    "        "
   ]
  },
  {
   "cell_type": "code",
   "execution_count": 4,
   "metadata": {},
   "outputs": [],
   "source": [
    "def max_hye(col):\n",
    "    if (col == 'genero'): return 1\n",
    "    return 3\n",
    "\n",
    "Na = 3 #n_atributos semi identificadores\n",
    "def precision():\n",
    "    summ =  0\n",
    "    for index, row in df.iterrows():\n",
    "        for col in df.columns.drop('id').drop('salario'):\n",
    "                summ += count[col, index]/max_hye(col)\n",
    "\n",
    "    return 1 - summ/(df.shape[0] * Na)"
   ]
  },
  {
   "cell_type": "code",
   "execution_count": 5,
   "metadata": {},
   "outputs": [],
   "source": [
    "def nextt(k, genero): #generaliza classe de equivalencia que não satisfaz k-anonimidade\n",
    "        test = testing()\n",
    "        test = test[test['salario'] < k]\n",
    "        \n",
    "        for index,aux in test.iterrows():\n",
    "            a = aux['pais']\n",
    "            b = aux['estado']\n",
    "            c = aux['cidade']\n",
    "            d = aux['genero']\n",
    "            e = aux['data']\n",
    "        \n",
    "            \n",
    "            j = toGeneralize(genero)\n",
    "\n",
    "            for i in classEquivalence(a,b,c,d,e).index:\n",
    "                #print(str(i) + \" \" + str(j))\n",
    "                nextGeneralization(i, j, aux[j])\n",
    "            #print(\"----------------\\n\\n\")\n",
    "            \n",
    "\n",
    "            \n",
    "def nextt2(qtd): #generaliza qtd individuos aleatorios do dataset\n",
    "    for q in range(qtd):\n",
    "        i = random.choice(df.index)\n",
    "        j = toGeneralize(True)\n",
    "        #print(str(i) + \" \" + str(j))\n",
    "        nextGeneralization(i, j, df.loc[i][j])\n",
    "        #print(\"----------------\\n\\n\")\n",
    "\n",
    "\n",
    "\n",
    "def kanonimity(k):\n",
    "    while testing()[testing()['salario'] < k].shape[0] > 0:\n",
    "        test = testing()\n",
    "        test = test[test['salario'] < k]\n",
    "        qtd_restante = test.shape[0] \n",
    "        print(qtd_restante)\n",
    "        \n",
    "        #Caso tenha uma classe completamente generalizada que não satisfaz k-anonimidade,\n",
    "        #devemos, generalizar individuos mesmo que pertencam a alguma classe que satisfaz k-anonimidade.\n",
    "        #No caso, vamos generalizar 3* a quantidade necessária, de forma aleatória.\n",
    "        if(qtd_restante == 1 and test['pais'].values[0]=='*' and test['estado'].values[0]=='*' and test['cidade'].values[0]=='*'\n",
    "        and test['genero'].values[0]=='*' and test['data'].values[0]=='**/**/**'):\n",
    "            nextt2(3*(k - test.loc[0]['salario']))\n",
    "        else:\n",
    "            #Generalizar genero prejudica muito a precisao.\n",
    "            #Portanto, só será considerado essa possibilidade para as ultimas 50 classes\n",
    "            if(qtd_restante > 50): \n",
    "                nextt(k, False)\n",
    "            else:\n",
    "                nextt(k, True)\n",
    "\n",
    "\n",
    "        "
   ]
  },
  {
   "cell_type": "code",
   "execution_count": 6,
   "metadata": {
    "scrolled": true
   },
   "outputs": [
    {
     "name": "stdout",
     "output_type": "stream",
     "text": [
      "1000\n",
      "998\n",
      "944\n",
      "716\n",
      "528\n",
      "392\n",
      "269\n",
      "189\n",
      "132\n",
      "101\n",
      "75\n",
      "55\n",
      "37\n",
      "34\n",
      "29\n",
      "22\n",
      "22\n",
      "20\n",
      "18\n",
      "18\n",
      "14\n",
      "11\n",
      "8\n",
      "7\n",
      "5\n",
      "5\n",
      "4\n",
      "3\n",
      "3\n",
      "2\n",
      "2\n",
      "1\n",
      "1\n",
      "CPU times: user 20.6 s, sys: 284 ms, total: 20.9 s\n",
      "Wall time: 20.6 s\n"
     ]
    }
   ],
   "source": [
    "%%time\n",
    "df = pd.read_csv(\"salario.csv\")\n",
    "count = defaultdict(int)\n",
    "kanonimity(2)\n"
   ]
  },
  {
   "cell_type": "code",
   "execution_count": 7,
   "metadata": {},
   "outputs": [
    {
     "data": {
      "text/plain": [
       "0.8416666666666675"
      ]
     },
     "execution_count": 7,
     "metadata": {},
     "output_type": "execute_result"
    }
   ],
   "source": [
    "precision() #k =2"
   ]
  },
  {
   "cell_type": "code",
   "execution_count": 8,
   "metadata": {},
   "outputs": [
    {
     "name": "stdout",
     "output_type": "stream",
     "text": [
      "1000\n",
      "999\n",
      "975\n",
      "848\n",
      "645\n",
      "434\n",
      "305\n",
      "220\n",
      "158\n",
      "111\n",
      "82\n",
      "58\n",
      "43\n",
      "33\n",
      "28\n",
      "24\n",
      "24\n",
      "22\n",
      "21\n",
      "19\n",
      "15\n",
      "10\n",
      "9\n",
      "8\n",
      "8\n",
      "8\n",
      "8\n",
      "7\n",
      "5\n",
      "5\n",
      "5\n",
      "4\n",
      "4\n",
      "3\n",
      "1\n",
      "CPU times: user 23.2 s, sys: 250 ms, total: 23.5 s\n",
      "Wall time: 22.8 s\n"
     ]
    }
   ],
   "source": [
    "%%time\n",
    "df = pd.read_csv(\"salario.csv\")\n",
    "count = defaultdict(int)\n",
    "kanonimity(4)\n"
   ]
  },
  {
   "cell_type": "code",
   "execution_count": 9,
   "metadata": {},
   "outputs": [
    {
     "data": {
      "text/plain": [
       "0.816888888888889"
      ]
     },
     "execution_count": 9,
     "metadata": {},
     "output_type": "execute_result"
    }
   ],
   "source": [
    "precision() #k=4"
   ]
  },
  {
   "cell_type": "code",
   "execution_count": 10,
   "metadata": {},
   "outputs": [
    {
     "name": "stdout",
     "output_type": "stream",
     "text": [
      "1000\n",
      "999\n",
      "975\n",
      "844\n",
      "649\n",
      "482\n",
      "333\n",
      "237\n",
      "164\n",
      "115\n",
      "88\n",
      "66\n",
      "47\n",
      "40\n",
      "34\n",
      "29\n",
      "27\n",
      "26\n",
      "22\n",
      "21\n",
      "19\n",
      "16\n",
      "14\n",
      "12\n",
      "12\n",
      "10\n",
      "9\n",
      "7\n",
      "5\n",
      "3\n",
      "2\n",
      "2\n",
      "1\n",
      "1\n",
      "1\n",
      "CPU times: user 23.6 s, sys: 187 ms, total: 23.8 s\n",
      "Wall time: 23.3 s\n"
     ]
    }
   ],
   "source": [
    "%%time\n",
    "df = pd.read_csv(\"salario.csv\")\n",
    "count = defaultdict(int)\n",
    "kanonimity(8)\n"
   ]
  },
  {
   "cell_type": "code",
   "execution_count": 11,
   "metadata": {},
   "outputs": [
    {
     "data": {
      "text/plain": [
       "0.7835555555555554"
      ]
     },
     "execution_count": 11,
     "metadata": {},
     "output_type": "execute_result"
    }
   ],
   "source": [
    "precision() #k=8"
   ]
  },
  {
   "cell_type": "code",
   "execution_count": 12,
   "metadata": {},
   "outputs": [
    {
     "name": "stdout",
     "output_type": "stream",
     "text": [
      "1000\n",
      "1000\n",
      "971\n",
      "839\n",
      "661\n",
      "494\n",
      "354\n",
      "267\n",
      "207\n",
      "159\n",
      "127\n",
      "103\n",
      "83\n",
      "67\n",
      "55\n",
      "47\n",
      "38\n",
      "31\n",
      "29\n",
      "26\n",
      "22\n",
      "22\n",
      "18\n",
      "16\n",
      "13\n",
      "11\n",
      "10\n",
      "9\n",
      "7\n",
      "5\n",
      "4\n",
      "4\n",
      "2\n",
      "2\n",
      "2\n",
      "2\n",
      "2\n",
      "2\n",
      "2\n",
      "2\n",
      "2\n",
      "2\n",
      "2\n",
      "2\n",
      "2\n",
      "2\n",
      "1\n",
      "1\n",
      "1\n",
      "1\n",
      "1\n",
      "1\n",
      "1\n",
      "CPU times: user 25.7 s, sys: 260 ms, total: 26 s\n",
      "Wall time: 25.4 s\n"
     ]
    }
   ],
   "source": [
    "%%time\n",
    "df = pd.read_csv(\"salario.csv\")\n",
    "count = defaultdict(int)\n",
    "kanonimity(16)\n"
   ]
  },
  {
   "cell_type": "code",
   "execution_count": 13,
   "metadata": {},
   "outputs": [
    {
     "data": {
      "text/plain": [
       "0.7378888888888908"
      ]
     },
     "execution_count": 13,
     "metadata": {},
     "output_type": "execute_result"
    }
   ],
   "source": [
    "precision() #k=16"
   ]
  },
  {
   "cell_type": "code",
   "execution_count": 14,
   "metadata": {},
   "outputs": [
    {
     "name": "stdout",
     "output_type": "stream",
     "text": [
      "1000\n",
      "999\n",
      "974\n",
      "836\n",
      "650\n",
      "502\n",
      "371\n",
      "270\n",
      "202\n",
      "162\n",
      "132\n",
      "100\n",
      "79\n",
      "59\n",
      "55\n",
      "41\n",
      "34\n",
      "26\n",
      "23\n",
      "21\n",
      "17\n",
      "15\n",
      "12\n",
      "11\n",
      "11\n",
      "10\n",
      "8\n",
      "8\n",
      "8\n",
      "6\n",
      "5\n",
      "5\n",
      "4\n",
      "2\n",
      "2\n",
      "2\n",
      "2\n",
      "2\n",
      "1\n",
      "3\n",
      "3\n",
      "3\n",
      "2\n",
      "1\n",
      "3\n",
      "2\n",
      "1\n",
      "2\n",
      "2\n",
      "1\n",
      "2\n",
      "2\n",
      "2\n",
      "2\n",
      "2\n",
      "CPU times: user 26.1 s, sys: 141 ms, total: 26.2 s\n",
      "Wall time: 25.8 s\n"
     ]
    }
   ],
   "source": [
    "%%time\n",
    "df = pd.read_csv(\"salario.csv\")\n",
    "count = defaultdict(int)\n",
    "kanonimity(64)"
   ]
  },
  {
   "cell_type": "code",
   "execution_count": 15,
   "metadata": {},
   "outputs": [
    {
     "data": {
      "text/plain": [
       "0.7195555555555578"
      ]
     },
     "execution_count": 15,
     "metadata": {},
     "output_type": "execute_result"
    }
   ],
   "source": [
    "precision() #k=64"
   ]
  },
  {
   "cell_type": "code",
   "execution_count": null,
   "metadata": {},
   "outputs": [],
   "source": []
  }
 ],
 "metadata": {
  "kernelspec": {
   "display_name": "Python 3",
   "language": "python",
   "name": "python3"
  },
  "language_info": {
   "codemirror_mode": {
    "name": "ipython",
    "version": 3
   },
   "file_extension": ".py",
   "mimetype": "text/x-python",
   "name": "python",
   "nbconvert_exporter": "python",
   "pygments_lexer": "ipython3",
   "version": "3.6.8"
  }
 },
 "nbformat": 4,
 "nbformat_minor": 2
}
