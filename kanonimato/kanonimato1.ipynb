{
 "cells": [
  {
   "cell_type": "markdown",
   "metadata": {},
   "source": [
    "# Imports"
   ]
  },
  {
   "cell_type": "code",
   "execution_count": 1,
   "metadata": {},
   "outputs": [],
   "source": [
    "import pandas as pd\n",
    "import numpy as np\n",
    "import random\n",
    "from collections import defaultdict\n",
    "%matplotlib inline\n",
    "\n",
    "df = pd.read_csv(\"salario.csv\")\n",
    "count = defaultdict(int)"
   ]
  },
  {
   "cell_type": "code",
   "execution_count": 2,
   "metadata": {},
   "outputs": [],
   "source": [
    "def testing():\n",
    "    return df.groupby([\"pais\",\"estado\",\"cidade\",\"genero\",\"data\"], axis=0, level=None, as_index=False).count()\n",
    "\n",
    "def classEquivalence(a,b,c,d,e):\n",
    "    return df[(df[\"pais\"] == a) & (df[\"estado\"] == b) & (df[\"cidade\"] == c) & (df[\"genero\"] == d) & (df[\"data\"] == e)]\n",
    "    "
   ]
  },
  {
   "cell_type": "code",
   "execution_count": 3,
   "metadata": {},
   "outputs": [],
   "source": [
    "def toGeneralize(genero): \n",
    "    if genero == True: return random.choice(df.columns.drop('salario').drop('id'))\n",
    "    return random.choice(df.columns.drop('salario').drop('id').drop('genero'))\n",
    "\n",
    "def nextGeneralization(i,j, value):\n",
    "    if(j == \"pais\"): \n",
    "        if(df.at[i,\"estado\"] != \"*\"): return nextGeneralization(i, \"estado\", value)\n",
    "        df.at[i, j] = \"*\"\n",
    "        if(count[\"lugar\",i] == 2): count[\"lugar\",i] = 3\n",
    "    elif(j == \"estado\"):\n",
    "        if(df.at[i,\"cidade\"] != \"*\"): return nextGeneralization(i, \"cidade\", value)\n",
    "        df.at[i, j] = \"*\"\n",
    "        if(count[\"lugar\",i] == 1): count[\"lugar\",i] = 2\n",
    "    elif(j == \"cidade\"):\n",
    "        df.at[i, j] = \"*\"\n",
    "        if(count[\"lugar\",i] == 0): count[\"lugar\",i] = 1\n",
    "    elif(j == \"genero\"):\n",
    "        df.at[i, j] = \"*\"\n",
    "        if(count[\"genero\",i] == 0): count[\"genero\",i] = 1\n",
    "    elif(j == \"data\"):\n",
    "        if(str(value)[0:5] == \"**/**\"): df.at[i, j] = \"**/**/**\"\n",
    "        elif(str(value)[0:2] == \"**\"): df.at[i, j] = \"**/**\"  + str((value)[5:8])\n",
    "        else:\n",
    "            df.at[i, j] = \"**\" + str((value)[2:8])\n",
    "        \n",
    "        if(count[\"data\",i] < 3): count[\"data\",i] = count[\"data\",i] + 1\n",
    "    else:\n",
    "        df.at[i, j] = \"erro\"\n",
    "        "
   ]
  },
  {
   "cell_type": "code",
   "execution_count": 4,
   "metadata": {},
   "outputs": [],
   "source": [
    "def max_hye(col):\n",
    "    if (col == 'genero'): return 1\n",
    "    return 3\n",
    "\n",
    "Na = 3 #n_atributos semi identificadores\n",
    "def precision():\n",
    "    summ =  0\n",
    "    for index, row in df.iterrows():\n",
    "        for col in df.columns.drop('id').drop('salario'):\n",
    "                summ += count[col, index]/max_hye(col)\n",
    "\n",
    "    return 1 - summ/(df.shape[0] * Na)"
   ]
  },
  {
   "cell_type": "code",
   "execution_count": 5,
   "metadata": {},
   "outputs": [],
   "source": [
    "def nextt(k, genero): #generaliza classe de equivalencia que não satisfaz k-anonimidade\n",
    "        test = testing()\n",
    "        test = test[test['salario'] < k]\n",
    "        \n",
    "        for index,aux in test.iterrows():\n",
    "            a = aux['pais']\n",
    "            b = aux['estado']\n",
    "            c = aux['cidade']\n",
    "            d = aux['genero']\n",
    "            e = aux['data']\n",
    "        \n",
    "            \n",
    "            j = toGeneralize(genero)\n",
    "\n",
    "            for i in classEquivalence(a,b,c,d,e).index:\n",
    "                #print(str(i) + \" \" + str(j))\n",
    "                nextGeneralization(i, j, aux[j])\n",
    "            #print(\"----------------\\n\\n\")\n",
    "            \n",
    "\n",
    "            \n",
    "def nextt2(qtd): #generaliza qtd individuos aleatorios do dataset\n",
    "    for q in range(qtd):\n",
    "        i = random.choice(df.index)\n",
    "        j = toGeneralize(True)\n",
    "        #print(str(i) + \" \" + str(j))\n",
    "        nextGeneralization(i, j, df.loc[i][j])\n",
    "        #print(\"----------------\\n\\n\")\n",
    "\n",
    "\n",
    "\n",
    "def kanonimity(k):\n",
    "    while testing()[testing()['salario'] < k].shape[0] > 0:\n",
    "        test = testing()\n",
    "        test = test[test['salario'] < k]\n",
    "        qtd_restante = test.shape[0] \n",
    "        print(qtd_restante)\n",
    "        \n",
    "        #Caso tenha uma classe completamente generalizada que não satisfaz k-anonimidade,\n",
    "        #devemos, generalizar individuos mesmo que pertencam a alguma classe que satisfaz k-anonimidade.\n",
    "        #No caso, vamos generalizar 3* a quantidade necessária, de forma aleatória.\n",
    "        if(qtd_restante == 1 and test['pais'].values[0]=='*' and test['estado'].values[0]=='*' and test['cidade'].values[0]=='*'\n",
    "        and test['genero'].values[0]=='*' and test['data'].values[0]=='**/**/**'):\n",
    "            nextt2(3*(k - test.loc[0]['salario']))\n",
    "        else:\n",
    "            #Generalizar genero prejudica muito a precisao.\n",
    "            #Portanto, só será considerado essa possibilidade para as ultimas 50 classes\n",
    "            if(qtd_restante > 50): \n",
    "                nextt(k, False)\n",
    "            else:\n",
    "                nextt(k, True)\n",
    "\n",
    "\n",
    "        "
   ]
  },
  {
   "cell_type": "code",
   "execution_count": 6,
   "metadata": {
    "scrolled": true
   },
   "outputs": [
    {
     "name": "stdout",
     "output_type": "stream",
     "text": [
      "1000\n",
      "1000\n",
      "946\n",
      "748\n",
      "513\n",
      "348\n",
      "245\n",
      "165\n",
      "129\n",
      "90\n",
      "72\n",
      "55\n",
      "43\n",
      "38\n",
      "35\n",
      "33\n",
      "24\n",
      "19\n",
      "17\n",
      "14\n",
      "11\n",
      "10\n",
      "10\n",
      "10\n",
      "7\n",
      "6\n",
      "4\n",
      "3\n",
      "2\n",
      "1\n",
      "1\n",
      "1\n",
      "1\n",
      "1\n",
      "CPU times: user 21.6 s, sys: 318 ms, total: 21.9 s\n",
      "Wall time: 21.2 s\n"
     ]
    }
   ],
   "source": [
    "%%time\n",
    "df = pd.read_csv(\"salario.csv\")\n",
    "count = defaultdict(int)\n",
    "kanonimity(2)\n",
    "df.to_csv(\"Salario_K2.csv\")"
   ]
  },
  {
   "cell_type": "code",
   "execution_count": 7,
   "metadata": {},
   "outputs": [
    {
     "data": {
      "text/plain": [
       "0.8403333333333345"
      ]
     },
     "execution_count": 7,
     "metadata": {},
     "output_type": "execute_result"
    }
   ],
   "source": [
    "precision() #k =2"
   ]
  },
  {
   "cell_type": "code",
   "execution_count": null,
   "metadata": {},
   "outputs": [],
   "source": []
  },
  {
   "cell_type": "code",
   "execution_count": 8,
   "metadata": {},
   "outputs": [
    {
     "name": "stdout",
     "output_type": "stream",
     "text": [
      "1000\n",
      "999\n",
      "980\n",
      "840\n",
      "622\n",
      "446\n",
      "303\n",
      "198\n",
      "150\n",
      "109\n",
      "82\n",
      "55\n",
      "39\n",
      "30\n",
      "25\n",
      "21\n",
      "18\n",
      "18\n",
      "18\n",
      "17\n",
      "14\n",
      "13\n",
      "9\n",
      "7\n",
      "7\n",
      "7\n",
      "6\n",
      "5\n",
      "4\n",
      "4\n",
      "4\n",
      "2\n",
      "2\n",
      "2\n",
      "1\n",
      "1\n",
      "CPU times: user 23.6 s, sys: 363 ms, total: 23.9 s\n",
      "Wall time: 23.1 s\n"
     ]
    }
   ],
   "source": [
    "%%time\n",
    "df = pd.read_csv(\"salario.csv\")\n",
    "count = defaultdict(int)\n",
    "kanonimity(4)\n",
    "df.to_csv(\"Salario_K4.csv\")"
   ]
  },
  {
   "cell_type": "code",
   "execution_count": 9,
   "metadata": {},
   "outputs": [
    {
     "data": {
      "text/plain": [
       "0.8097777777777777"
      ]
     },
     "execution_count": 9,
     "metadata": {},
     "output_type": "execute_result"
    }
   ],
   "source": [
    "precision() #k=4"
   ]
  },
  {
   "cell_type": "code",
   "execution_count": 10,
   "metadata": {},
   "outputs": [
    {
     "name": "stdout",
     "output_type": "stream",
     "text": [
      "1000\n",
      "1000\n",
      "972\n",
      "853\n",
      "658\n",
      "489\n",
      "336\n",
      "236\n",
      "158\n",
      "125\n",
      "99\n",
      "73\n",
      "53\n",
      "37\n",
      "33\n",
      "24\n",
      "19\n",
      "18\n",
      "14\n",
      "10\n",
      "6\n",
      "5\n",
      "4\n",
      "3\n",
      "2\n",
      "2\n",
      "2\n",
      "1\n",
      "1\n",
      "CPU times: user 23.9 s, sys: 256 ms, total: 24.2 s\n",
      "Wall time: 23.5 s\n"
     ]
    }
   ],
   "source": [
    "%%time\n",
    "df = pd.read_csv(\"salario.csv\")\n",
    "count = defaultdict(int)\n",
    "kanonimity(8)\n",
    "df.to_csv(\"Salario_K8.csv\")"
   ]
  },
  {
   "cell_type": "code",
   "execution_count": 11,
   "metadata": {},
   "outputs": [
    {
     "data": {
      "text/plain": [
       "0.7802222222222226"
      ]
     },
     "execution_count": 11,
     "metadata": {},
     "output_type": "execute_result"
    }
   ],
   "source": [
    "precision() #k=8"
   ]
  },
  {
   "cell_type": "code",
   "execution_count": 12,
   "metadata": {},
   "outputs": [
    {
     "name": "stdout",
     "output_type": "stream",
     "text": [
      "1000\n",
      "998\n",
      "973\n",
      "834\n",
      "665\n",
      "495\n",
      "361\n",
      "273\n",
      "197\n",
      "135\n",
      "108\n",
      "80\n",
      "62\n",
      "40\n",
      "35\n",
      "27\n",
      "24\n",
      "22\n",
      "18\n",
      "18\n",
      "15\n",
      "15\n",
      "13\n",
      "13\n",
      "13\n",
      "10\n",
      "10\n",
      "10\n",
      "8\n",
      "7\n",
      "4\n",
      "4\n",
      "2\n",
      "2\n",
      "2\n",
      "2\n",
      "2\n",
      "2\n",
      "2\n",
      "1\n",
      "1\n",
      "1\n",
      "1\n",
      "1\n",
      "1\n",
      "1\n",
      "CPU times: user 25.5 s, sys: 216 ms, total: 25.8 s\n",
      "Wall time: 25 s\n"
     ]
    }
   ],
   "source": [
    "%%time\n",
    "df = pd.read_csv(\"salario.csv\")\n",
    "count = defaultdict(int)\n",
    "kanonimity(16)\n",
    "df.to_csv(\"Salario_K16.csv\")"
   ]
  },
  {
   "cell_type": "code",
   "execution_count": 13,
   "metadata": {},
   "outputs": [
    {
     "data": {
      "text/plain": [
       "0.7550000000000009"
      ]
     },
     "execution_count": 13,
     "metadata": {},
     "output_type": "execute_result"
    }
   ],
   "source": [
    "precision() #k=16"
   ]
  },
  {
   "cell_type": "code",
   "execution_count": 14,
   "metadata": {},
   "outputs": [
    {
     "name": "stdout",
     "output_type": "stream",
     "text": [
      "1000\n",
      "1000\n",
      "973\n",
      "849\n",
      "685\n",
      "523\n",
      "405\n",
      "292\n",
      "224\n",
      "165\n",
      "128\n",
      "97\n",
      "77\n",
      "61\n",
      "49\n",
      "41\n",
      "36\n",
      "32\n",
      "26\n",
      "24\n",
      "22\n",
      "16\n",
      "14\n",
      "7\n",
      "6\n",
      "6\n",
      "5\n",
      "5\n",
      "5\n",
      "4\n",
      "3\n",
      "1\n",
      "1\n",
      "1\n",
      "CPU times: user 26.2 s, sys: 374 ms, total: 26.6 s\n",
      "Wall time: 25.6 s\n"
     ]
    }
   ],
   "source": [
    "%%time\n",
    "df = pd.read_csv(\"salario.csv\")\n",
    "count = defaultdict(int)\n",
    "kanonimity(64)"
   ]
  },
  {
   "cell_type": "code",
   "execution_count": 15,
   "metadata": {},
   "outputs": [
    {
     "data": {
      "text/plain": [
       "0.6813333333333351"
      ]
     },
     "execution_count": 15,
     "metadata": {},
     "output_type": "execute_result"
    }
   ],
   "source": [
    "precision() #k=64"
   ]
  },
  {
   "cell_type": "code",
   "execution_count": 17,
   "metadata": {},
   "outputs": [
    {
     "data": {
      "text/html": [
       "<div>\n",
       "<style scoped>\n",
       "    .dataframe tbody tr th:only-of-type {\n",
       "        vertical-align: middle;\n",
       "    }\n",
       "\n",
       "    .dataframe tbody tr th {\n",
       "        vertical-align: top;\n",
       "    }\n",
       "\n",
       "    .dataframe thead th {\n",
       "        text-align: right;\n",
       "    }\n",
       "</style>\n",
       "<table border=\"1\" class=\"dataframe\">\n",
       "  <thead>\n",
       "    <tr style=\"text-align: right;\">\n",
       "      <th></th>\n",
       "      <th>pais</th>\n",
       "      <th>estado</th>\n",
       "      <th>cidade</th>\n",
       "      <th>genero</th>\n",
       "      <th>data</th>\n",
       "      <th>id</th>\n",
       "      <th>salario</th>\n",
       "    </tr>\n",
       "  </thead>\n",
       "  <tbody>\n",
       "    <tr>\n",
       "      <th>0</th>\n",
       "      <td>*</td>\n",
       "      <td>*</td>\n",
       "      <td>*</td>\n",
       "      <td>*</td>\n",
       "      <td>**/**/**</td>\n",
       "      <td>97</td>\n",
       "      <td>97</td>\n",
       "    </tr>\n",
       "    <tr>\n",
       "      <th>1</th>\n",
       "      <td>*</td>\n",
       "      <td>*</td>\n",
       "      <td>*</td>\n",
       "      <td>Female</td>\n",
       "      <td>**/**/**</td>\n",
       "      <td>278</td>\n",
       "      <td>278</td>\n",
       "    </tr>\n",
       "    <tr>\n",
       "      <th>2</th>\n",
       "      <td>*</td>\n",
       "      <td>*</td>\n",
       "      <td>*</td>\n",
       "      <td>Female</td>\n",
       "      <td>**/**/19</td>\n",
       "      <td>110</td>\n",
       "      <td>110</td>\n",
       "    </tr>\n",
       "    <tr>\n",
       "      <th>3</th>\n",
       "      <td>*</td>\n",
       "      <td>*</td>\n",
       "      <td>*</td>\n",
       "      <td>Female</td>\n",
       "      <td>**/**/20</td>\n",
       "      <td>121</td>\n",
       "      <td>121</td>\n",
       "    </tr>\n",
       "    <tr>\n",
       "      <th>4</th>\n",
       "      <td>*</td>\n",
       "      <td>*</td>\n",
       "      <td>*</td>\n",
       "      <td>Male</td>\n",
       "      <td>**/**/**</td>\n",
       "      <td>202</td>\n",
       "      <td>202</td>\n",
       "    </tr>\n",
       "    <tr>\n",
       "      <th>5</th>\n",
       "      <td>*</td>\n",
       "      <td>*</td>\n",
       "      <td>*</td>\n",
       "      <td>Male</td>\n",
       "      <td>**/**/19</td>\n",
       "      <td>192</td>\n",
       "      <td>192</td>\n",
       "    </tr>\n",
       "  </tbody>\n",
       "</table>\n",
       "</div>"
      ],
      "text/plain": [
       "  pais estado cidade  genero      data   id  salario\n",
       "0    *      *      *       *  **/**/**   97       97\n",
       "1    *      *      *  Female  **/**/**  278      278\n",
       "2    *      *      *  Female  **/**/19  110      110\n",
       "3    *      *      *  Female  **/**/20  121      121\n",
       "4    *      *      *    Male  **/**/**  202      202\n",
       "5    *      *      *    Male  **/**/19  192      192"
      ]
     },
     "execution_count": 17,
     "metadata": {},
     "output_type": "execute_result"
    }
   ],
   "source": [
    "testing()"
   ]
  },
  {
   "cell_type": "code",
   "execution_count": null,
   "metadata": {},
   "outputs": [],
   "source": []
  }
 ],
 "metadata": {
  "kernelspec": {
   "display_name": "Python 3",
   "language": "python",
   "name": "python3"
  },
  "language_info": {
   "codemirror_mode": {
    "name": "ipython",
    "version": 3
   },
   "file_extension": ".py",
   "mimetype": "text/x-python",
   "name": "python",
   "nbconvert_exporter": "python",
   "pygments_lexer": "ipython3",
   "version": "3.6.8"
  }
 },
 "nbformat": 4,
 "nbformat_minor": 2
}
