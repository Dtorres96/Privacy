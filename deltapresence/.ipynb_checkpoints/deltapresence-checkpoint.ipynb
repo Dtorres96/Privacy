{
 "cells": [
  {
   "cell_type": "code",
   "execution_count": 9,
   "metadata": {},
   "outputs": [],
   "source": [
    "import pandas as pd\n",
    "import numpy as np\n",
    "%matplotlib inline\n",
    "\n",
    "possibilidades=[[0,0,0],[0,0,1],[0,0,2],\n",
    "                [0,1,0],[0,1,1],[0,1,2],\n",
    "                [1,0,0],[1,0,1],[1,0,2],\n",
    "                [1,1,0],[1,1,1],[1,1,2],\n",
    "                [2,0,0],[2,0,1],[2,0,2],\n",
    "                [2,1,0],[2,1,1],[2,1,2],\n",
    "                [3,0,0],[3,0,1],[3,0,2],\n",
    "                [3,1,0],[3,1,1],[3,1,2]]\n",
    "\n",
    "df = pd.read_csv(\"doencas.csv\")\n",
    "df_externo = pd.read_csv(\"background.csv\")\n",
    "for index in df.index:\n",
    "    df.at[index,\"id\"] = -1"
   ]
  },
  {
   "cell_type": "code",
   "execution_count": 2,
   "metadata": {},
   "outputs": [],
   "source": [
    "def max_hye(index):\n",
    "    if (index== 0): return 3\n",
    "    elif (index == 1): return 1\n",
    "    else: return 2\n",
    "\n",
    "\n",
    "def precision(df,lista):\n",
    "    summ =  0\n",
    "    for i in df.index:\n",
    "        for index in [0,1]:\n",
    "                summ += lista[index]/max_hye(index)\n",
    "        if(df.at[i,\"cidade\"]==\"*\"): summ+=1/2\n",
    "        elif(df.at[i,\"estado\"]==\"*\"): summ+=1\n",
    "        else: sum+=0\n",
    "            \n",
    "    return 1 - summ/(df.shape[0] * 3)"
   ]
  },
  {
   "cell_type": "code",
   "execution_count": 3,
   "metadata": {},
   "outputs": [],
   "source": [
    "def count_equivl(df): #retorna a quantidade de elementos de cada classe de equivalencia\n",
    "    return df.groupby([\"estado\",\"cidade\",\"genero\",\"data\"], axis=0, level=None, as_index=False).count()\n",
    "\n",
    "def classEquivalence(df, b,c,d,e): #retorna a classe de equivalencia com os paremetros passados\n",
    "    return df[(df[\"estado\"] == b) & (df[\"cidade\"] == c) & (df[\"genero\"] == d) & (df[\"data\"] == e)]"
   ]
  },
  {
   "cell_type": "code",
   "execution_count": 4,
   "metadata": {},
   "outputs": [],
   "source": [
    "def anonimiza(df, lista):\n",
    "    for index in df.index:\n",
    "\n",
    "        if(lista[0] == 0): pass\n",
    "        elif (lista[0] == 1):\n",
    "            df.at[index, \"data\"] = \"*\" + str(df.at[index,\"data\"][2:8])\n",
    "        elif (lista[0] == 2):\n",
    "            df.at[index, \"data\"] = \"*/*\" + str(df.at[index,\"data\"][5:8])\n",
    "        else:\n",
    "            df.at[index, \"data\"] = \"*/*/*\"\n",
    "\n",
    "        if(lista[1] == 0): pass\n",
    "        else:\n",
    "            df.at[index, \"genero\"] = \"*\"\n",
    "            \n",
    "        if(lista[2] == 0): pass\n",
    "        elif (lista[2] == 1):\n",
    "            df.at[index, \"cidade\"] = \"*\"\n",
    "        else:\n",
    "            df.at[index, \"cidade\"] = \"*\"\n",
    "            df.at[index, \"estado\"] = \"*\""
   ]
  },
  {
   "cell_type": "code",
   "execution_count": 5,
   "metadata": {},
   "outputs": [],
   "source": [
    "def delta(df, df_externo, delmin, delmax):\n",
    "    \n",
    "    for p in possibilidades:\n",
    "        \n",
    "        df_copy = df.copy()\n",
    "        df_externo_copy = df_externo.copy()\n",
    "        deltas_calculados = []\n",
    "        \n",
    "        anonimiza(df_copy, p)\n",
    "        anonimiza(df_externo_copy,p)\n",
    "        \n",
    "        classes = count_equivl(df_copy)\n",
    "        for index in classes.index:\n",
    "            b = classes.at[index,\"estado\"]\n",
    "            c = classes.at[index,\"cidade\"]\n",
    "            d = classes.at[index,\"genero\"]\n",
    "            e = classes.at[index,\"data\"]\n",
    "            equivClassDF_copy = classEquivalence(df_copy,b,c,d,e)\n",
    "            equivClassDF_externo = classEquivalence(df_externo_copy,b,c,d,e)\n",
    "            if(equivClassDF_externo.shape[0] == 0): return print(\"divisao por zero\")\n",
    "            deltas_calculados.append(equivClassDF_copy.shape[0]/equivClassDF_externo.shape[0])\n",
    "            \n",
    "            \n",
    "        if(min(deltas_calculados)>= delmin and max(deltas_calculados)<=delmax): return [df_copy, p]\n",
    "    print(\"Não foi possivel atender aos deltas desejados\")\n",
    "    return [df,[0,0,0]]\n",
    "        "
   ]
  },
  {
   "cell_type": "code",
   "execution_count": 8,
   "metadata": {},
   "outputs": [
    {
     "data": {
      "text/plain": [
       "0.7222222222222228"
      ]
     },
     "execution_count": 8,
     "metadata": {},
     "output_type": "execute_result"
    }
   ],
   "source": [
    "l = delta(df,df_externo, 0.1,0.5)\n",
    "precision(l[0],l[1])\n"
   ]
  },
  {
   "cell_type": "code",
   "execution_count": null,
   "metadata": {},
   "outputs": [],
   "source": []
  }
 ],
 "metadata": {
  "kernelspec": {
   "display_name": "Python 3",
   "language": "python",
   "name": "python3"
  },
  "language_info": {
   "codemirror_mode": {
    "name": "ipython",
    "version": 3
   },
   "file_extension": ".py",
   "mimetype": "text/x-python",
   "name": "python",
   "nbconvert_exporter": "python",
   "pygments_lexer": "ipython3",
   "version": "3.7.3"
  }
 },
 "nbformat": 4,
 "nbformat_minor": 2
}
