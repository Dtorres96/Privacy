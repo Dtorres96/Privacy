{
 "cells": [
  {
   "cell_type": "code",
   "execution_count": 1,
   "metadata": {},
   "outputs": [],
   "source": [
    "import pandas as pd\n",
    "import numpy as np\n",
    "from scipy import stats\n",
    "from itertools import product\n",
    "from scipy.stats import laplace\n",
    "\n",
    "df = pd.read_csv(\"movie_metadata.csv\")\n",
    "for i in df.index:\n",
    "    if(df.isna().at[i,\"gross\"] or df.isna().at[i,\"language\"] or df.isna().at[i,\"country\"]): df = df.drop(i)"
   ]
  },
  {
   "cell_type": "code",
   "execution_count": 2,
   "metadata": {},
   "outputs": [],
   "source": [
    "def topgross(df,eplison):\n",
    "    if(df.shape[0] == 1): sensibilidade = 0 \n",
    "    else : sensibilidade = np.max(df[\"gross\"].values) - np.max(np.delete(df[\"gross\"].values,np.where(df[\"gross\"].values == [np.max(df[\"gross\"].values)])))\n",
    "    x = abs(laplace.rvs(loc = 0, scale = sensibilidade/eplison))\n",
    "    return np.max(df[\"gross\"].values) + x"
   ]
  },
  {
   "cell_type": "code",
   "execution_count": 3,
   "metadata": {},
   "outputs": [],
   "source": [
    "def score_gross(df,eplison):\n",
    "    Dict = {}\n",
    "    \n",
    "    #max_value = topgross(df,eplison)    \n",
    "    #A = [df[\"movie_title\"].values,df[\"movie_title\"].values]\n",
    "    #A = list(product(*A))\n",
    "    \n",
    "    #for mov1, mov2 in A:\n",
    "    #    if(mov1 == mov2):\n",
    "    #        value = df[df[\"movie_title\"] == mov1][\"gross\"].values[0]\n",
    "    #        Dict[mov1,mov2] = -abs(max_value - value)/max_value\n",
    "    #    else: Dict[mov1,mov2] = 0\n",
    "    \n",
    "    for movie_title in df[\"movie_title\"].values:\n",
    "        value = df[df[\"movie_title\"] == movie_title][\"gross\"].values[0]\n",
    "        Dict[movie_title] = -abs(max_value - value)/max_value\n",
    "        \n",
    "    return Dict"
   ]
  },
  {
   "cell_type": "code",
   "execution_count": 4,
   "metadata": {},
   "outputs": [],
   "source": [
    "def consulta1(df, eplison):\n",
    "     \n",
    "    fscore_df = score_gross(df,eplison)  \n",
    "    sensibilidade = max(fscore_df.values())*(-1)\n",
    "    \n",
    "    total_sum = 0\n",
    "    for movie_title in df[\"movie_title\"].values:\n",
    "        total_sum += np.e**(eplison*fscore_df[movie_title]/(2*sensibilidade))\n",
    "\n",
    "    xk = df.index\n",
    "    pk = []\n",
    "    for idnx in df.index:\n",
    "        if(sensibilidade != 0): pk.append(np.e**(eplison*fscore_df[df.at[idnx,\"movie_title\"]]/(2*sensibilidade))/total_sum)\n",
    "        else: pk.append(1)\n",
    "            \n",
    "            \n",
    "    custm = stats.rv_discrete(name='custm', values=(xk, pk))\n",
    "    \n",
    "    \n",
    "    return df.at[custm.rvs(size=1)[0], \"movie_title\"]"
   ]
  },
  {
   "cell_type": "code",
   "execution_count": 5,
   "metadata": {},
   "outputs": [],
   "source": [
    "def consulta2(df, eplison):\n",
    "    result = []\n",
    "        \n",
    "    language_set = set(df[\"language\"].values)\n",
    "    for language in language_set:\n",
    "        df_language = df[df[\"language\"] == language]\n",
    "        result.append(consulta1(df_language,eplison))\n",
    "    \n",
    "    return result"
   ]
  },
  {
   "cell_type": "code",
   "execution_count": 6,
   "metadata": {},
   "outputs": [],
   "source": [
    "def topcount_country(df, eplison):\n",
    "    group_by = df.groupby([\"country\"], as_index=False).count()\n",
    "    if(df.shape[0] == 1): sensibilidade = 0\n",
    "    else: sensibilidade = np.max(df[\"color\"].values) - np.max(np.delete(df[\"color\"].values,np.where(df[\"color\"].values == [np.max(df[\"color\"].values)])))\n",
    "    x = abs(laplace.rvs(loc = 0, scale = sensibilidade/eplison))\n",
    "    return np.max(df[\"color\"].values) + x"
   ]
  },
  {
   "cell_type": "code",
   "execution_count": 7,
   "metadata": {},
   "outputs": [],
   "source": [
    "def score_count(df, eplison):\n",
    "    Dict = {}\n",
    "    group_by = df.groupby([\"country\"], as_index=False).count()\n",
    "    max_value = topcount_country(group_by, eplison)\n",
    "    \n",
    "    for movie_country in df[\"country\"].values:\n",
    "        Dict[movie_country] = -abs(max_value-group_by[group_by[\"country\"]== movie_country][\"color\"].values[0])/max_value\n",
    "        \n",
    "    return Dict"
   ]
  },
  {
   "cell_type": "code",
   "execution_count": 18,
   "metadata": {},
   "outputs": [],
   "source": [
    "def consulta3_aux(df, eplison):\n",
    "    \n",
    "    fscore_df = score_count(df,eplison)  \n",
    "    sensibilidade = max(fscore_df.values())*(-1)\n",
    "    \n",
    "    \n",
    "    total_sum = 0\n",
    "    for movie_country in df[\"country\"].values:\n",
    "        total_sum += np.e**(eplison*fscore_df[movie_country]/(2*sensibilidade))\n",
    "    \n",
    "   \n",
    "    xk = df.index\n",
    "    pk = []\n",
    "    for idnx in df.index:\n",
    "        if(sensibilidade != 0): pk.append(np.e**(eplison*fscore_df[df.at[idnx,\"country\"]]/(2*sensibilidade))/total_sum)\n",
    "        else: pk.append(1)\n",
    "            \n",
    "    custm = stats.rv_discrete(name='custm', values=(xk, pk))\n",
    "    \n",
    "    \n",
    "    return df.at[custm.rvs(size=1)[0], \"country\"]\n",
    "    "
   ]
  },
  {
   "cell_type": "code",
   "execution_count": 29,
   "metadata": {},
   "outputs": [],
   "source": [
    "def consulta3(df, eplison):\n",
    "    result = []\n",
    "    r1 = consulta3_aux(df, eplison/3)\n",
    "    result.append(r1)\n",
    "    r2 = consulta3_aux(df[df[\"country\"]!=r1], eplison/3)\n",
    "    result.append(r2)\n",
    "    r3 = consulta3_aux(df[df[\"country\"]!=r1][df[df[\"country\"]!=r1][\"country\"]!=r2], eplison/3)\n",
    "    result.append(r3)\n",
    "    \n",
    "    return result"
   ]
  },
  {
   "cell_type": "code",
   "execution_count": null,
   "metadata": {},
   "outputs": [],
   "source": []
  }
 ],
 "metadata": {
  "kernelspec": {
   "display_name": "Python 3",
   "language": "python",
   "name": "python3"
  },
  "language_info": {
   "codemirror_mode": {
    "name": "ipython",
    "version": 3
   },
   "file_extension": ".py",
   "mimetype": "text/x-python",
   "name": "python",
   "nbconvert_exporter": "python",
   "pygments_lexer": "ipython3",
   "version": "3.7.4"
  }
 },
 "nbformat": 4,
 "nbformat_minor": 2
}
