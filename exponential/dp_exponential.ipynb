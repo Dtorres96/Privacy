{
 "cells": [
  {
   "cell_type": "markdown",
   "metadata": {},
   "source": [
    "# Imports"
   ]
  },
  {
   "cell_type": "code",
   "execution_count": 1,
   "metadata": {},
   "outputs": [],
   "source": [
    "import pandas as pd\n",
    "import numpy as np\n",
    "from scipy import stats\n",
    "from itertools import product\n",
    "from scipy.stats import laplace\n",
    "    \n",
    "df = pd.read_csv(\"movie_metadata.csv\")\n",
    "for i in df.index:\n",
    "    if(df.isna().at[i,\"gross\"] or df.isna().at[i,\"language\"] or df.isna().at[i,\"country\"]): df = df.drop(i)"
   ]
  },
  {
   "cell_type": "code",
   "execution_count": 2,
   "metadata": {},
   "outputs": [],
   "source": [
    "def topgross(df,eplison):\n",
    "    if(df.shape[0] == 1): sensibilidade = 0 \n",
    "    else : sensibilidade = np.max(df[\"gross\"].values) - np.max(np.delete(df[\"gross\"].values,np.where(df[\"gross\"].values == [np.max(df[\"gross\"].values)])))\n",
    "    x = abs(laplace.rvs(loc = 0, scale = sensibilidade/eplison))\n",
    "    return np.max(df[\"gross\"].values) + x"
   ]
  },
  {
   "cell_type": "markdown",
   "metadata": {},
   "source": [
    "# Score for the first Query"
   ]
  },
  {
   "cell_type": "code",
   "execution_count": 3,
   "metadata": {},
   "outputs": [],
   "source": [
    "def score_gross(df,eplison):\n",
    "    Dict = {}\n",
    "    \n",
    "    max_value = topgross(df,eplison)    \n",
    "    #A = [df[\"movie_title\"].values,df[\"movie_title\"].values]\n",
    "    #A = list(product(*A))\n",
    "    \n",
    "    #for mov1, mov2 in A:\n",
    "    #    if(mov1 == mov2):\n",
    "    #        value = df[df[\"movie_title\"] == mov1][\"gross\"].values[0]\n",
    "    #        Dict[mov1,mov2] = -abs(max_value - value)/max_value\n",
    "    #    else: Dict[mov1,mov2] = 0\n",
    "    \n",
    "    for movie_title in df[\"movie_title\"].values:\n",
    "        value = df[df[\"movie_title\"] == movie_title][\"gross\"].values[0]\n",
    "        Dict[movie_title] = -abs(max_value - value)/max_value\n",
    "        \n",
    "    return Dict"
   ]
  },
  {
   "cell_type": "code",
   "execution_count": 4,
   "metadata": {},
   "outputs": [],
   "source": [
    "def consulta1(df, eplison):\n",
    "     \n",
    "    fscore_df = score_gross(df,0.01*eplison) \n",
    "    sensibilidade = min(fscore_df.values())*(-1)\n",
    "    \n",
    "    total_sum = 0\n",
    "    for movie_title in df[\"movie_title\"].values:\n",
    "        if(sensibilidade!=0): total_sum += np.e**(0.99*eplison*fscore_df[movie_title]/(2*sensibilidade))\n",
    "\n",
    "    xk = df.index\n",
    "    pk = []\n",
    "    for idnx in df.index:\n",
    "        if(sensibilidade != 0): pk.append(np.e**(0.99*eplison*fscore_df[df.at[idnx,\"movie_title\"]]/(2*sensibilidade))/total_sum)\n",
    "        else: pk.append(1)\n",
    "            \n",
    "            \n",
    "    custm = stats.rv_discrete(name='custm', values=(xk, pk))\n",
    "    \n",
    "    \n",
    "    return df.at[custm.rvs(size=1)[0], \"movie_title\"],sensibilidade"
   ]
  },
  {
   "cell_type": "code",
   "execution_count": 5,
   "metadata": {},
   "outputs": [],
   "source": [
    "def consulta2(df, eplison):\n",
    "    result = []\n",
    "        \n",
    "    language_set = set(df[\"language\"].values)\n",
    "    for language in language_set:\n",
    "        df_language = df[df[\"language\"] == language]\n",
    "        result.append(consulta1(df_language,eplison))\n",
    "    \n",
    "    return result"
   ]
  },
  {
   "cell_type": "code",
   "execution_count": 6,
   "metadata": {},
   "outputs": [],
   "source": [
    "def topcount_country(df, eplison):\n",
    "    group_by = df.groupby([\"country\"], as_index=False).count()\n",
    "    if(df.shape[0] == 1): sensibilidade = 0\n",
    "    else: sensibilidade = np.max(df[\"color\"].values) - np.max(np.delete(df[\"color\"].values,np.where(df[\"color\"].values == [np.max(df[\"color\"].values)])))\n",
    "    x = abs(laplace.rvs(loc = 0, scale = sensibilidade/eplison))\n",
    "    return np.max(df[\"color\"].values) + x"
   ]
  },
  {
   "cell_type": "markdown",
   "metadata": {},
   "source": [
    "# Score For the Third Query"
   ]
  },
  {
   "cell_type": "code",
   "execution_count": 7,
   "metadata": {},
   "outputs": [],
   "source": [
    "def score_count(df, eplison):\n",
    "    Dict = {}\n",
    "    group_by = df.groupby([\"country\"], as_index=False).count()\n",
    "    max_value = topcount_country(group_by, 0.01*eplison)\n",
    "    \n",
    "    for movie_country in df[\"country\"].values:\n",
    "        Dict[movie_country] = -abs(max_value-group_by[group_by[\"country\"]== movie_country][\"color\"].values[0])/max_value\n",
    "        \n",
    "    return Dict"
   ]
  },
  {
   "cell_type": "code",
   "execution_count": 8,
   "metadata": {},
   "outputs": [],
   "source": [
    "def consulta3_aux(df, eplison):\n",
    "    \n",
    "    fscore_df = score_count(df,eplison)  \n",
    "    sensibilidade = min(fscore_df.values())*(-1)\n",
    "    \n",
    "    \n",
    "    total_sum = 0\n",
    "    for movie_country in df[\"country\"].values:\n",
    "        if(sensibilidade!=0): total_sum += np.e**(0.99*eplison*fscore_df[movie_country]/(2*sensibilidade))\n",
    "    \n",
    "   \n",
    "    xk = df.index\n",
    "    pk = []\n",
    "    for idnx in df.index:\n",
    "        if(sensibilidade != 0): pk.append(np.e**(0.99*eplison*fscore_df[df.at[idnx,\"country\"]]/(2*sensibilidade))/total_sum)\n",
    "        else: pk.append(1)\n",
    "            \n",
    "    custm = stats.rv_discrete(name='custm', values=(xk, pk))\n",
    "    \n",
    "    \n",
    "    return df.at[custm.rvs(size=1)[0], \"country\"],sensibilidade\n",
    "    "
   ]
  },
  {
   "cell_type": "code",
   "execution_count": 9,
   "metadata": {},
   "outputs": [],
   "source": [
    "def consulta3(df, eplison):\n",
    "    result = []\n",
    "    sens = []\n",
    "    r1 = consulta3_aux(df, eplison/3)\n",
    "    result.append(r1[0])\n",
    "    sens.append(r1[1])\n",
    "    r2 = consulta3_aux(df[df[\"country\"]!=r1[0]], eplison/3)\n",
    "    result.append(r2[0])\n",
    "    sens.append(r2[1])\n",
    "    r3 = consulta3_aux(df[df[\"country\"]!=r1[0]][df[df[\"country\"]!=r1[0]][\"country\"]!=r2[0]], eplison/3)\n",
    "    result.append(r3[0])\n",
    "    sens.append(r3[1])\n",
    "    return result,sens"
   ]
  },
  {
   "cell_type": "markdown",
   "metadata": {},
   "source": [
    "# Parameters"
   ]
  },
  {
   "cell_type": "code",
   "execution_count": 10,
   "metadata": {},
   "outputs": [],
   "source": [
    "eplisons = [0.1/3,1/3,10/3]"
   ]
  },
  {
   "cell_type": "markdown",
   "metadata": {},
   "source": [
    "# Consulta 1"
   ]
  },
  {
   "cell_type": "code",
   "execution_count": 11,
   "metadata": {},
   "outputs": [],
   "source": [
    "c1_results = []\n",
    "c1_sens = []\n",
    "\n",
    "for eplison in eplisons:\n",
    "    c1 = consulta1(df,eplison)\n",
    "    c1_results.append(c1[0])\n",
    "    c1_sens.append(c1[1])"
   ]
  },
  {
   "cell_type": "code",
   "execution_count": 12,
   "metadata": {},
   "outputs": [
    {
     "data": {
      "text/plain": [
       "0.9999999093929844"
      ]
     },
     "execution_count": 12,
     "metadata": {},
     "output_type": "execute_result"
    }
   ],
   "source": [
    "c1[1]"
   ]
  },
  {
   "cell_type": "markdown",
   "metadata": {},
   "source": [
    "# Consulta 2"
   ]
  },
  {
   "cell_type": "code",
   "execution_count": 13,
   "metadata": {},
   "outputs": [],
   "source": [
    "c2_results = []\n",
    "c2_sens = []\n",
    "\n",
    "for eplison in eplisons:\n",
    "    c2 = consulta2(df,eplison)\n",
    "    c2 =np.array(c2)\n",
    "    c2_results.append(c2[:,0])\n",
    "    c2_sens.append(c2[:,1])"
   ]
  },
  {
   "cell_type": "markdown",
   "metadata": {},
   "source": [
    "# Consulta 3"
   ]
  },
  {
   "cell_type": "code",
   "execution_count": 14,
   "metadata": {},
   "outputs": [],
   "source": [
    "c3_results = []\n",
    "c3_sens = []\n",
    "\n",
    "for eplison in eplisons:\n",
    "    c3 = consulta3(df,eplison)\n",
    "    c3 =np.array(c3)\n",
    "    c3_results.append(c3[0])\n",
    "    c3_sens.append(c3[1])"
   ]
  },
  {
   "cell_type": "code",
   "execution_count": 15,
   "metadata": {},
   "outputs": [
    {
     "data": {
      "text/plain": [
       "array([['USA', 'UK', 'France'],\n",
       "       ['0.9999858457774301', '0.9998776380594122', '0.9994019563443486']],\n",
       "      dtype='<U18')"
      ]
     },
     "execution_count": 15,
     "metadata": {},
     "output_type": "execute_result"
    }
   ],
   "source": [
    "c3"
   ]
  },
  {
   "cell_type": "code",
   "execution_count": 16,
   "metadata": {},
   "outputs": [],
   "source": [
    "data = []\n",
    "budgets = [0.1,1,10]\n",
    "i = 0\n",
    "for budget in budgets:\n",
    "    data.append([budget,c1_results[i],c2_results[i],c3_results[i],c1_sens[i],c2_sens[i],c3_sens[i]])\n",
    "    i += 1"
   ]
  },
  {
   "cell_type": "code",
   "execution_count": 17,
   "metadata": {},
   "outputs": [],
   "source": [
    "results = pd.DataFrame(data, columns = [ 'budget', 'result q1', 'result q2', 'result q3', \n",
    "                                        'sens q1', 'sens q2', 'sens q3'])"
   ]
  },
  {
   "cell_type": "code",
   "execution_count": 18,
   "metadata": {},
   "outputs": [
    {
     "data": {
      "text/html": [
       "<div>\n",
       "<style scoped>\n",
       "    .dataframe tbody tr th:only-of-type {\n",
       "        vertical-align: middle;\n",
       "    }\n",
       "\n",
       "    .dataframe tbody tr th {\n",
       "        vertical-align: top;\n",
       "    }\n",
       "\n",
       "    .dataframe thead th {\n",
       "        text-align: right;\n",
       "    }\n",
       "</style>\n",
       "<table border=\"1\" class=\"dataframe\">\n",
       "  <thead>\n",
       "    <tr style=\"text-align: right;\">\n",
       "      <th></th>\n",
       "      <th>budget</th>\n",
       "      <th>result q1</th>\n",
       "      <th>result q2</th>\n",
       "      <th>result q3</th>\n",
       "      <th>sens q1</th>\n",
       "      <th>sens q2</th>\n",
       "      <th>sens q3</th>\n",
       "    </tr>\n",
       "  </thead>\n",
       "  <tbody>\n",
       "    <tr>\n",
       "      <th>0</th>\n",
       "      <td>0.1</td>\n",
       "      <td>Cheaper by the Dozen 2</td>\n",
       "      <td>[Baahubali: The Beginning , I Served the King ...</td>\n",
       "      <td>[USA, UK, France]</td>\n",
       "      <td>1.0</td>\n",
       "      <td>[0.0, 0.0, 0.0, 0.9996444671757713, 0.0, 0.999...</td>\n",
       "      <td>[0.9999998728992576, 0.9999958036293238, 0.999...</td>\n",
       "    </tr>\n",
       "    <tr>\n",
       "      <th>1</th>\n",
       "      <td>1.0</td>\n",
       "      <td>Shanghai Surprise</td>\n",
       "      <td>[Baahubali: The Beginning , I Served the King ...</td>\n",
       "      <td>[USA, France, Spain]</td>\n",
       "      <td>1.0</td>\n",
       "      <td>[0.0, 0.0, 0.0, 0.9899785345534254, 0.0, 0.999...</td>\n",
       "      <td>[0.9999997772446698, 0.9999938204932263, 0.999...</td>\n",
       "    </tr>\n",
       "    <tr>\n",
       "      <th>2</th>\n",
       "      <td>10.0</td>\n",
       "      <td>The Rose</td>\n",
       "      <td>[Baahubali: The Beginning , I Served the King ...</td>\n",
       "      <td>[USA, UK, France]</td>\n",
       "      <td>1.0</td>\n",
       "      <td>[0.0, 0.0, 0.0, 0.9698317260156591, 0.0, 0.999...</td>\n",
       "      <td>[0.9999858457774301, 0.9998776380594122, 0.999...</td>\n",
       "    </tr>\n",
       "  </tbody>\n",
       "</table>\n",
       "</div>"
      ],
      "text/plain": [
       "   budget                result q1  \\\n",
       "0     0.1  Cheaper by the Dozen 2    \n",
       "1     1.0       Shanghai Surprise    \n",
       "2    10.0                The Rose    \n",
       "\n",
       "                                           result q2             result q3  \\\n",
       "0  [Baahubali: The Beginning , I Served the King ...     [USA, UK, France]   \n",
       "1  [Baahubali: The Beginning , I Served the King ...  [USA, France, Spain]   \n",
       "2  [Baahubali: The Beginning , I Served the King ...     [USA, UK, France]   \n",
       "\n",
       "   sens q1                                            sens q2  \\\n",
       "0      1.0  [0.0, 0.0, 0.0, 0.9996444671757713, 0.0, 0.999...   \n",
       "1      1.0  [0.0, 0.0, 0.0, 0.9899785345534254, 0.0, 0.999...   \n",
       "2      1.0  [0.0, 0.0, 0.0, 0.9698317260156591, 0.0, 0.999...   \n",
       "\n",
       "                                             sens q3  \n",
       "0  [0.9999998728992576, 0.9999958036293238, 0.999...  \n",
       "1  [0.9999997772446698, 0.9999938204932263, 0.999...  \n",
       "2  [0.9999858457774301, 0.9998776380594122, 0.999...  "
      ]
     },
     "execution_count": 18,
     "metadata": {},
     "output_type": "execute_result"
    }
   ],
   "source": [
    "results"
   ]
  },
  {
   "cell_type": "code",
   "execution_count": 19,
   "metadata": {},
   "outputs": [],
   "source": [
    "results.to_csv('result.csv',index=False,sep=',')"
   ]
  },
  {
   "cell_type": "code",
   "execution_count": null,
   "metadata": {},
   "outputs": [],
   "source": []
  }
 ],
 "metadata": {
  "kernelspec": {
   "display_name": "Python 3",
   "language": "python",
   "name": "python3"
  },
  "language_info": {
   "codemirror_mode": {
    "name": "ipython",
    "version": 3
   },
   "file_extension": ".py",
   "mimetype": "text/x-python",
   "name": "python",
   "nbconvert_exporter": "python",
   "pygments_lexer": "ipython3",
   "version": "3.7.3"
  }
 },
 "nbformat": 4,
 "nbformat_minor": 2
}
